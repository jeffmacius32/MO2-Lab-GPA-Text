{
 "cells": [
  {
   "cell_type": "code",
   "execution_count": 2,
   "id": "0fca40cb-c2a5-4084-be16-bec00903bff1",
   "metadata": {},
   "outputs": [
    {
     "name": "stdout",
     "output_type": "stream",
     "text": [
      "Jeff Macius has made Dean's List. \n",
      "Thank you for using our MO2 Lap APP, see you next Time\n"
     ]
    }
   ],
   "source": [
    "# Name: Jeff Macius\n",
    "# File Name: M02 Lab GPA test\n",
    "# Description: It's a app that will tell the student if they are qualify for Dean's list or the Honor roll by using their GPA score\n",
    "\n",
    "\n",
    "\n",
    "\n",
    "while True:\n",
    "    student_last = input(\"What is your last name ? or type 'ZZZ' to quit \")\n",
    "    if student_last == 'ZZZ':\n",
    "        print(\"Thank you for using our MO2 Lap APP, see you next Time\")\n",
    "        break\n",
    "    student_firstname = input(\"What is your first name ? \")    \n",
    "    while student_last and student_firstname != \"ZZZ\":\n",
    "            gpa = float(input(\"What is your GPA\"))\n",
    "            break\n",
    "    if gpa >= 3.5:\n",
    "        print(f\"{student_last} {student_firstname} has made Dean's List. \")\n",
    "    elif gpa >= 3.25:\n",
    "        print(f\"{student_last} {student_firstname} has made the Honor Roll. \")\n",
    "    else:\n",
    "        print(\"sorry you are not qualify for Deans list or Honor roll\")\n",
    "        break\n",
    "           \n",
    "    "
   ]
  },
  {
   "cell_type": "code",
   "execution_count": null,
   "id": "4d3b80f3-c486-4a2a-9f36-7adf8233006e",
   "metadata": {},
   "outputs": [],
   "source": []
  }
 ],
 "metadata": {
  "kernelspec": {
   "display_name": "Python 3 (ipykernel)",
   "language": "python",
   "name": "python3"
  },
  "language_info": {
   "codemirror_mode": {
    "name": "ipython",
    "version": 3
   },
   "file_extension": ".py",
   "mimetype": "text/x-python",
   "name": "python",
   "nbconvert_exporter": "python",
   "pygments_lexer": "ipython3",
   "version": "3.12.4"
  }
 },
 "nbformat": 4,
 "nbformat_minor": 5
}
